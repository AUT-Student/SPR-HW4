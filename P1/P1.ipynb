{
 "cells": [
  {
   "cell_type": "code",
   "execution_count": 1,
   "id": "metropolitan-adrian",
   "metadata": {},
   "outputs": [],
   "source": [
    "import numpy as np"
   ]
  },
  {
   "cell_type": "code",
   "execution_count": 10,
   "id": "right-valentine",
   "metadata": {},
   "outputs": [
    {
     "data": {
      "text/plain": [
       "0.5000000000000001"
      ]
     },
     "execution_count": 10,
     "metadata": {},
     "output_type": "execute_result"
    }
   ],
   "source": [
    "np.linalg.norm(m1-[3.85,3.65])"
   ]
  },
  {
   "cell_type": "code",
   "execution_count": 2,
   "id": "refined-zealand",
   "metadata": {},
   "outputs": [],
   "source": [
    "m1 = np.array([3.55, 3.25])\n",
    "m2 = np.array([2.34, 1.04])\n",
    "m3 = np.array([0.4, 4.5])"
   ]
  },
  {
   "cell_type": "code",
   "execution_count": 11,
   "id": "confident-tennis",
   "metadata": {},
   "outputs": [
    {
     "name": "stdout",
     "output_type": "stream",
     "text": [
      "[0.4, 4.5]\n",
      "3.3889526405661083\n",
      "3.9667619036186177\n",
      "0.0\n",
      "############3\n",
      "[1.5, 0.8]\n",
      "3.1945265689926576\n",
      "0.8736131867136621\n",
      "3.8600518131237567\n",
      "############3\n",
      "[1.6, 1.4]\n",
      "2.6879360111431225\n",
      "0.8229216244576391\n",
      "3.3241540277189325\n",
      "############3\n",
      "[2.2, 4.2]\n",
      "1.6507574019219178\n",
      "3.16309974550282\n",
      "1.824828759089466\n",
      "############3\n",
      "[2.4, 1.0]\n",
      "2.5268557536986553\n",
      "0.07211102550927985\n",
      "4.031128874149275\n",
      "############3\n",
      "[2.8, 0.2]\n",
      "3.140859754907882\n",
      "0.9577055915050303\n",
      "4.924428900898052\n",
      "############3\n",
      "[3.4, 1.8]\n",
      "1.4577379737113252\n",
      "1.3043005788544295\n",
      "4.036087214122113\n",
      "############3\n",
      "[3.8, 3.6]\n",
      "0.4301162633521314\n",
      "2.9470663379028306\n",
      "3.517101079013795\n",
      "############3\n",
      "[4.0, 2.3]\n",
      "1.051189802081432\n",
      "2.084034548657963\n",
      "4.219004621945797\n",
      "############3\n",
      "[4.0, 2.3]\n",
      "1.051189802081432\n",
      "2.084034548657963\n",
      "4.219004621945797\n",
      "############3\n",
      "[4.2, 2.9]\n",
      "0.7382411530116705\n",
      "2.630437226013957\n",
      "4.123105625617661\n",
      "############3\n"
     ]
    }
   ],
   "source": [
    "for x in [[0.4, 4.5], [1.5, 0.8], [1.6, 1.4], [2.2, 4.2], [2.4, 1.0], [2.8, 0.2], [3.4, 1.8], [3.8, 3.6], [4.0, 2.3], [4.2, 2.9]]:\n",
    "    print(x)\n",
    "    print(np.linalg.norm(m1-x))\n",
    "    print(np.linalg.norm(m2-x))\n",
    "    print(np.linalg.norm(m3-x))\n",
    "    print(\"############3\")"
   ]
  },
  {
   "cell_type": "code",
   "execution_count": null,
   "id": "sublime-monroe",
   "metadata": {},
   "outputs": [],
   "source": []
  }
 ],
 "metadata": {
  "kernelspec": {
   "display_name": "Python 3",
   "language": "python",
   "name": "python3"
  },
  "language_info": {
   "codemirror_mode": {
    "name": "ipython",
    "version": 3
   },
   "file_extension": ".py",
   "mimetype": "text/x-python",
   "name": "python",
   "nbconvert_exporter": "python",
   "pygments_lexer": "ipython3",
   "version": "3.9.1"
  }
 },
 "nbformat": 4,
 "nbformat_minor": 5
}
