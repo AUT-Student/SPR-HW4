{
 "cells": [
  {
   "cell_type": "markdown",
   "id": "welsh-expression",
   "metadata": {},
   "source": [
    "<center><b>In the name of God</b></center>\n",
    "\n",
    "<b>Course</b>: Statistical Pattern Recognition\n",
    "<br>\n",
    "<b>Description:</b> HomeWork 4 | Question 2\n",
    "<br>\n",
    "<b>Developer</b>: Alireza Mazochi (400131075)"
   ]
  },
  {
   "cell_type": "markdown",
   "id": "classical-teach",
   "metadata": {},
   "source": [
    "# Libraries"
   ]
  },
  {
   "cell_type": "code",
   "execution_count": 1,
   "id": "modern-integral",
   "metadata": {},
   "outputs": [],
   "source": [
    "import numpy as np\n",
    "import pandas as pd\n",
    "import scipy.io\n",
    "from sklearn.metrics import accuracy_score"
   ]
  },
  {
   "cell_type": "markdown",
   "id": "aboriginal-separate",
   "metadata": {},
   "source": [
    "# a"
   ]
  },
  {
   "cell_type": "code",
   "execution_count": 2,
   "id": "stuffed-replica",
   "metadata": {},
   "outputs": [],
   "source": [
    "import math\n",
    "\n",
    "def find_cluster(X, k, mu):\n",
    "    for i, x in X.iterrows():\n",
    "        best_distance = math.inf\n",
    "        best_cluster = None\n",
    "        for j in range(k):\n",
    "            new_distance = np.linalg.norm(x-mu.iloc[j])\n",
    "            if new_distance < best_distance:\n",
    "                best_distance = new_distance\n",
    "                best_cluster = j\n",
    "            \n",
    "        X.at[i, \"cluster\"] = best_cluster\n",
    "            \n",
    "    return X"
   ]
  },
  {
   "cell_type": "code",
   "execution_count": 3,
   "id": "primary-elements",
   "metadata": {},
   "outputs": [],
   "source": [
    "def calculate_means(X, k):\n",
    "    data_list = []\n",
    "    for i in range(k):\n",
    "        data_list.append(X[X[\"cluster\"]==i].mean())\n",
    "    \n",
    "    mu = pd.DataFrame(data_list)\n",
    "    return mu"
   ]
  },
  {
   "cell_type": "code",
   "execution_count": 4,
   "id": "residential-presentation",
   "metadata": {},
   "outputs": [],
   "source": [
    "def sse_error(X, k):\n",
    "    error = 0\n",
    "    for i in range(k):\n",
    "        X_cluster = X[X[\"cluster\"]==i]\n",
    "        m = X_cluster.mean()\n",
    "        for index, x in X_cluster.iterrows():\n",
    "            error += np.linalg.norm(x-m)**2\n",
    "    return error"
   ]
  },
  {
   "cell_type": "code",
   "execution_count": 5,
   "id": "tested-tooth",
   "metadata": {},
   "outputs": [],
   "source": [
    "import math\n",
    "\n",
    "def kmeanscluster(X, k, mu, tol, maxIter):\n",
    "    prev_error = math.inf\n",
    "    for iter in range(maxIter):\n",
    "        X = find_cluster(X, k, mu)\n",
    "        mu = calculate_means(X, k)\n",
    "        new_error = sse_error(X, k)\n",
    "        if prev_error - new_error < tol:\n",
    "            break\n",
    "        prev_error = new_error\n",
    "    return X"
   ]
  },
  {
   "cell_type": "code",
   "execution_count": 28,
   "id": "anticipated-particular",
   "metadata": {},
   "outputs": [],
   "source": [
    "def accuracy(C, Y):\n",
    "    C[\"class\"] = Y\n",
    "    C[\"predict_class\"] = None\n",
    "    clusters = set(C[\"cluster\"].values)\n",
    "    \n",
    "    false_predict = 0\n",
    "    true_predict = 0\n",
    "    for cluster in clusters:\n",
    "        C_cluster = C[C[\"cluster\"]==cluster]\n",
    "        \n",
    "        false_predict += min(len(C_cluster[C_cluster[\"class\"]==0]), len(C_cluster[C_cluster[\"class\"]==1]))\n",
    "        true_predict += max(len(C_cluster[C_cluster[\"class\"]==0]), len(C_cluster[C_cluster[\"class\"]==1]))\n",
    "    \n",
    "    return true_predict/(true_predict+false_predict)"
   ]
  },
  {
   "cell_type": "markdown",
   "id": "isolated-textbook",
   "metadata": {},
   "source": [
    "# b"
   ]
  },
  {
   "cell_type": "code",
   "execution_count": 36,
   "id": "breeding-cassette",
   "metadata": {},
   "outputs": [
    {
     "name": "stdout",
     "output_type": "stream",
     "text": [
      "0.8541300527240774\n",
      "0.8541300527240774\n",
      "0.8541300527240774\n",
      "0.8541300527240774\n",
      "0.8541300527240774\n"
     ]
    }
   ],
   "source": [
    "for t in range(5):\n",
    "    X = pd.read_csv(\"breast_data.csv\", header=None)\n",
    "\n",
    "    Y = pd.read_csv(\"breast_labels.csv\", header=None)\n",
    "\n",
    "    k = 2\n",
    "\n",
    "    mu = X.sample(n=k)\n",
    "\n",
    "    C = kmeanscluster(X=X, k=k, mu=mu, tol=0.01, maxIter=100)\n",
    "\n",
    "    print(accuracy(C, Y))"
   ]
  },
  {
   "cell_type": "markdown",
   "id": "adopted-elevation",
   "metadata": {},
   "source": [
    "# c"
   ]
  },
  {
   "cell_type": "code",
   "execution_count": 33,
   "id": "residential-attention",
   "metadata": {},
   "outputs": [
    {
     "name": "stdout",
     "output_type": "stream",
     "text": [
      "0.8541300527240774\n"
     ]
    }
   ],
   "source": [
    "X = pd.read_csv(\"breast_data.csv\", header=None)\n",
    "\n",
    "Y = pd.read_csv(\"breast_labels.csv\", header=None)\n",
    "\n",
    "k = 2\n",
    "\n",
    "mu = pd.DataFrame(scipy.io.loadmat('init_mu')[\"mu_init\"].T)\n",
    "\n",
    "C = kmeanscluster(X=X, k=k, mu=mu, tol=100, maxIter=50)\n",
    "\n",
    "print(accuracy(C, Y))"
   ]
  },
  {
   "cell_type": "code",
   "execution_count": null,
   "id": "homeless-anthony",
   "metadata": {},
   "outputs": [],
   "source": []
  }
 ],
 "metadata": {
  "kernelspec": {
   "display_name": "Python 3",
   "language": "python",
   "name": "python3"
  },
  "language_info": {
   "codemirror_mode": {
    "name": "ipython",
    "version": 3
   },
   "file_extension": ".py",
   "mimetype": "text/x-python",
   "name": "python",
   "nbconvert_exporter": "python",
   "pygments_lexer": "ipython3",
   "version": "3.9.1"
  }
 },
 "nbformat": 4,
 "nbformat_minor": 5
}
